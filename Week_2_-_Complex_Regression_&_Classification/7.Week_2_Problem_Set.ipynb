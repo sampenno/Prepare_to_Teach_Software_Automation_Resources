{
 "cells": [
  {
   "cell_type": "markdown",
   "metadata": {},
   "source": [
    "# Week 2 - Problem Set\n",
    "\n",
    "Practice what you learnt today with these problems; I will share the answers on Monday before the next workshop."
   ]
  },
  {
   "cell_type": "code",
   "execution_count": null,
   "metadata": {},
   "outputs": [],
   "source": [
    "# Run the dependencies before you begin\n",
    "import numpy as np\n",
    "import matplotlib.pyplot as plt\n",
    "from utils_common import generate_data\n",
    "\n",
    "plt.style.use('ggplot')"
   ]
  },
  {
   "cell_type": "markdown",
   "metadata": {},
   "source": [
    "**1. Using MD syntax, create a table of the two regression algorithms we have covered so far with the following headings.**\n",
    "\n",
    "- Algorythm\n",
    "- Regression or Classification\n",
    "- Popular uses"
   ]
  },
  {
   "cell_type": "markdown",
   "metadata": {},
   "source": [
    "**2. In a markdown block, outline why more than 3 degrees of polynomial expression are not recommended in Machine Learning.**\n"
   ]
  },
  {
   "cell_type": "markdown",
   "metadata": {},
   "source": [
    "**3. Modify the code block below to label the two categories, apply a colour to each category, enable the legend, add a title \"Logistic Data,\" and label the X & Y Axis with \"Feature\" and \"Target.\"**\n",
    "\n",
    "| Category | Label |\n",
    "| --- | --- |\n",
    "| 0 | Australia |\n",
    "| 1 | New Zealand |"
   ]
  },
  {
   "cell_type": "code",
   "execution_count": null,
   "metadata": {},
   "outputs": [],
   "source": [
    "# Linear Regression For Classification\n",
    "m = generate_data(20, 50, 0, 0, 300, 0.8)\n",
    "n = generate_data(0, 30, 1, 1, 300, 0.8)\n",
    "plt.scatter(m[0], m[1], c='r')\n",
    "plt.scatter(n[0], n[1], c='r')\n",
    "plt.show()"
   ]
  },
  {
   "cell_type": "markdown",
   "metadata": {},
   "source": [
    "**4. In a markdown block, outline why Linear Regression is not a good machine learning model for classification.**"
   ]
  },
  {
   "cell_type": "markdown",
   "metadata": {},
   "source": [
    "__5. In a markdown block, outline the machine learning Logistic Regression algorithm.__"
   ]
  },
  {
   "cell_type": "markdown",
   "metadata": {},
   "source": [
    "**6. Using the [OOP Logistic Regression](4.OOP_Logistic_Regression.ipynb) as an example, design, fit and evaluate an [Iris classification OOP implementation](6.OOP_Iris_Logistic_Regression.ipynb).**"
   ]
  },
  {
   "cell_type": "markdown",
   "metadata": {},
   "source": [
    "__7. After completing Logistic Regression for the Iris data set (Q6), justify why you selected the features you did for your model.__"
   ]
  }
 ],
 "metadata": {
  "kernelspec": {
   "display_name": "Python 3",
   "language": "python",
   "name": "python3"
  },
  "language_info": {
   "codemirror_mode": {
    "name": "ipython",
    "version": 3
   },
   "file_extension": ".py",
   "mimetype": "text/x-python",
   "name": "python",
   "nbconvert_exporter": "python",
   "pygments_lexer": "ipython3",
   "version": "3.12.1"
  }
 },
 "nbformat": 4,
 "nbformat_minor": 2
}
