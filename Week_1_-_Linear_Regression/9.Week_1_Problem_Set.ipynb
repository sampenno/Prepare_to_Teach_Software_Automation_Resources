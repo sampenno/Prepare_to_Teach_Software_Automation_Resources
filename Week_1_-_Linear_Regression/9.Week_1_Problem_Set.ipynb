{
 "cells": [
  {
   "cell_type": "markdown",
   "metadata": {},
   "source": [
    "# Week 1 - Problem Set\n",
    "\n",
    "Practice what you learnt today with these problems; I will share the answers on Monday before the next workshop."
   ]
  },
  {
   "cell_type": "code",
   "execution_count": null,
   "metadata": {},
   "outputs": [],
   "source": [
    "# Run the dependencies before you begin\n",
    "import numpy as np\n",
    "import matplotlib.pyplot as plt\n",
    "from utils_common import compute_model_output\n",
    "\n",
    "plt.style.use('ggplot')"
   ]
  },
  {
   "cell_type": "markdown",
   "metadata": {},
   "source": [
    "__1. In a markdown block, using MD syntax, create an ordered list of 4 different features that could be used to predict house prices.__"
   ]
  },
  {
   "cell_type": "markdown",
   "metadata": {},
   "source": [
    "__2. In a code block, convert the following table to a Python List, Numpy array and a Pandas DataFrame.__\n",
    "\n",
    "| Student Number | Student Name | Result |\n",
    "| --- | --- | --- |\n",
    "| 1234 | Ben | 99 |\n",
    "| 1235 | Jess | 85 |\n",
    "| 1236 | Janet | 50 |\n",
    "| 1237 | Kevin | 62 |\n",
    "| 1238 | Nick | 41 |"
   ]
  },
  {
   "cell_type": "markdown",
   "metadata": {},
   "source": [
    "__3. In a markdown block, select and justify one of the three data structures for use in Machine Learning.__ "
   ]
  },
  {
   "cell_type": "markdown",
   "metadata": {},
   "source": [
    "__4. In a markdown block, outline the Machine Learning Linear Regression algorithm.__"
   ]
  },
  {
   "cell_type": "markdown",
   "metadata": {},
   "source": [
    "__5. Modify the code block below to adjust $w$ and $b$ to manually fit a Linear Regression line with good intuition or fit.__"
   ]
  },
  {
   "cell_type": "code",
   "execution_count": null,
   "metadata": {},
   "outputs": [],
   "source": [
    "x_train = np.array([[-4], [-8], [-10], [-12], [-14]])\n",
    "y_train = np.array([1, 3, 5, 7, 9])\n",
    "\n",
    "w = 0\n",
    "b = 0\n",
    "\n",
    "tmp_f_wb = compute_model_output(x_train, w, b,)\n",
    "\n",
    "plt.plot(x_train, tmp_f_wb, c='b',label='Our Prediction')\n",
    "plt.scatter(x_train, y_train, marker='x', c='r',label='Actual Values')\n",
    "plt.show()"
   ]
  },
  {
   "cell_type": "markdown",
   "metadata": {},
   "source": [
    "__6. Modify the above code to add a legend, title, Xaxis title and Yaxis title to the MatPlotLib in question 5.__"
   ]
  },
  {
   "cell_type": "markdown",
   "metadata": {},
   "source": [
    "__7. Refering to the below model, describe underfitting in Linear Regression.__"
   ]
  },
  {
   "cell_type": "code",
   "execution_count": null,
   "metadata": {},
   "outputs": [],
   "source": [
    "x_train = np.array([1, 1.5, 1.8, 2, 2.2])\n",
    "y_train = np.array([[200], [250], [260], [280], [500]])\n",
    "tmp_f_wb = compute_model_output(x_train, 200, 10,)\n",
    "plt.plot(x_train, tmp_f_wb, c='b',label='Our Prediction')\n",
    "plt.scatter(x_train, y_train, marker='x', c='r',label='Actual Values')\n",
    "plt.show()"
   ]
  },
  {
   "cell_type": "markdown",
   "metadata": {},
   "source": [
    "__8. In a markdown block, identify and explain the biggest issue with this dataset if it were to be used to train a Linear Regression model.__\n",
    "\n",
    "```python\n",
    "x_train = np.array([1000, 1500, 1800, 2000, 2200])\n",
    "y_train = np.array([[200000], [250000], [260000], [280000], [500000]])\n",
    "```"
   ]
  },
  {
   "cell_type": "markdown",
   "metadata": {},
   "source": [
    "__9. Play the [Gradient Descent Game](https://www.i-am.ai/gradient-descent.html), and read about local and global minimums.__"
   ]
  }
 ],
 "metadata": {
  "kernelspec": {
   "display_name": "Python 3",
   "language": "python",
   "name": "python3"
  },
  "language_info": {
   "codemirror_mode": {
    "name": "ipython",
    "version": 3
   },
   "file_extension": ".py",
   "mimetype": "text/x-python",
   "name": "python",
   "nbconvert_exporter": "python",
   "pygments_lexer": "ipython3",
   "version": "3.12.1"
  }
 },
 "nbformat": 4,
 "nbformat_minor": 2
}
