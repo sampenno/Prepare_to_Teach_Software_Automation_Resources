{
 "cells": [
  {
   "cell_type": "markdown",
   "metadata": {},
   "source": [
    "# Linear Regression Fundamentals"
   ]
  },
  {
   "cell_type": "code",
   "execution_count": null,
   "metadata": {},
   "outputs": [],
   "source": [
    "import numpy as np\n",
    "import pandas as pd\n",
    "import matplotlib.pyplot as plt\n",
    "from sklearn.linear_model import LinearRegression\n",
    "from utils_common import generate_data\n",
    "\n",
    "plt.style.use('ggplot')"
   ]
  },
  {
   "cell_type": "markdown",
   "metadata": {},
   "source": [
    "A simple linear function\n",
    "\n",
    "```math\n",
    "y = wx + b\n",
    "```\n",
    "\n",
    "<span style=\"color : red\">Band 5 & 6 students should be able to 'recall' this function and have a 'high level understanding' of it in Linear Regression</span>\n",
    "\n",
    "| Symbol | |\n",
    "| --- | --- |\n",
    "| y | Predicted value |\n",
    "| w | Slope of coefecient of the linear expression (weight) |\n",
    "| x | Feature |\n",
    "| b | y-intercept when the line crosses the y axis (bias) |\n"
   ]
  },
  {
   "cell_type": "code",
   "execution_count": null,
   "metadata": {},
   "outputs": [],
   "source": [
    "x_train = np.array([[1.5], [4], [5], [8], [11]])\n",
    "y_train = np.array([1, 3, 5, 7, 9])"
   ]
  },
  {
   "cell_type": "code",
   "execution_count": null,
   "metadata": {},
   "outputs": [],
   "source": [
    "def compute_model_output(x, w, b):\n",
    "    \"\"\"\n",
    "    Computes the prediction of a linear model\n",
    "    Args:\n",
    "        x (ndarray (X,)): Data, X examples \n",
    "        w,b (scalar)    : model parameters  \n",
    "    Returns\n",
    "        f_wb (ndarray (y_pred,)): model prediction\n",
    "    \"\"\"\n",
    "    X = x.shape[0]\n",
    "    y_pred = np.zeros(X)\n",
    "    for i in range(X):\n",
    "        y_pred[i] = w * x[i].item() + b\n",
    "    return y_pred"
   ]
  },
  {
   "cell_type": "code",
   "execution_count": null,
   "metadata": {},
   "outputs": [],
   "source": [
    "w = 1\n",
    "b = -1\n",
    "\n",
    "tmp_f_wb = compute_model_output(x_train, w, b,)\n",
    "\n",
    "# Plot our model prediction\n",
    "plt.plot(\n",
    "    x_train,\n",
    "    tmp_f_wb,\n",
    "    c='b',\n",
    "    label=f'Prediction: y = {w}x + {b}'\n",
    ")\n",
    "\n",
    "# Plot the data points\n",
    "plt.scatter(x_train, y_train, marker='x', c='r',label='Actual Values')\n",
    "\n",
    "# Draw vertical lines to show the loss for each point\n",
    "for xi, yi, y_pred in zip(x_train, y_train, tmp_f_wb):\n",
    "    plt.plot([xi, xi], [yi, y_pred], c='green', linestyle='--', linewidth=1)\n",
    "plt.plot([], [], c='green', linestyle='--', linewidth=1, label='loss')\n",
    "\n",
    "# Draw \"rise over run\" triangle to illustrate the coefficient (slope)\n",
    "x0 = x_train[0].item()  # starting x (e.g., 2)\n",
    "run = 2                 # choose a run of 2 units\n",
    "x1 = x0 + run           # ending x (e.g., 4)\n",
    "y0 = w * x0 + b         # y at x0\n",
    "y1 = w * x1 + b         # y at x1\n",
    "\n",
    "# Draw the horizontal\n",
    "plt.plot([x0, x1], [y0, y0], c='green', linewidth=2, label='coefficient (w)')\n",
    "\n",
    "# Draw the vertical\n",
    "plt.plot([x1, x1], [y0, y1], c='green', linewidth=2)\n",
    "plt.annotate(f'coefficient (w={w})', xy=(x1, (y0 + y1)/2), xytext=(x1+0.2, (y0 + y1)/2),\n",
    "             va='center', color='green')\n",
    "\n",
    "# Mark the y-intercept on the y-axis\n",
    "plt.scatter(0, b, color='green', s=100, zorder=5, label='y-intercept (b)')\n",
    "plt.annotate(f'y-intercept (b={b})', xy=(0, b), xytext=(0.5, b+0.5),\n",
    "             arrowprops=dict(facecolor='green', shrink=0.05), color='green')\n",
    "\n",
    "# Set the title\n",
    "plt.title(\"Linear Regression y=wx+b\")\n",
    "# Set the y-axis label\n",
    "plt.ylabel('Target')\n",
    "# Set the x-axis label\n",
    "plt.xlabel('Feature')\n",
    "plt.legend()\n",
    "plt.show()"
   ]
  },
  {
   "cell_type": "markdown",
   "metadata": {},
   "source": [
    "#### Fit, Good Fit, Underfit & Overfit (also called intuition)\n",
    "\n",
    "\"Good fit\" or \"Intuition\" refers to a model that accurately captures the underlying patterns in the data while avoiding overfitting and underfitting. Underfitting occurs when a model is too simple and fails to learn the relevant patterns in the data. Overfitting happens when a model learns the training data too well, including noise and outliers, and performs poorly on new, unseen data."
   ]
  },
  {
   "cell_type": "code",
   "execution_count": null,
   "metadata": {},
   "outputs": [],
   "source": [
    "#Good Fit/Intuition with low bias and low variance\n",
    "m = np.sort(generate_data(-10, 10, -10, 10, 8, 0.3))\n",
    "\n",
    "fig, ax = plt.subplots(1,3, figsize=(15, 5))\n",
    "ax[0].scatter(m[0], m[1], color='blue', s=100)\n",
    "ax[0].plot(m[0], m[1], color='red')\n",
    "\n",
    "x = np.linspace(10, -10, 100)\n",
    "y = -x**2 + 4*x + 2  \n",
    "ax[2].plot(x, y, color='red')\n",
    "x = x + np.random.uniform(-5, 5, size=x.shape)\n",
    "y = y + np.random.uniform(-10, 10, size=y.shape)\n",
    "ax[1].scatter(x, y, c='b')\n",
    "ax[2].scatter(x, y, c='b')\n",
    "\n",
    "x_lin = np.array([-10,10])\n",
    "tmp_f_wb = compute_model_output(x_lin, 10, -10,)\n",
    "ax[1].plot(x_lin, tmp_f_wb, c='r')\n",
    "\n",
    "ax[0].title.set_text(\"Overfitting\")\n",
    "ax[1].title.set_text(\"Underfitting\")\n",
    "ax[2].title.set_text(\"Good Fit/Intuition\")\n",
    "for ax in ax.flat:\n",
    "    ax.set_xticks([])\n",
    "    ax.set_xticklabels([])\n",
    "    ax.set_yticks([])\n",
    "    ax.set_yticklabels([])\n",
    "\n",
    "plt.show()"
   ]
  },
  {
   "cell_type": "markdown",
   "metadata": {},
   "source": [
    "#### Fit Applied"
   ]
  },
  {
   "cell_type": "code",
   "execution_count": null,
   "metadata": {},
   "outputs": [],
   "source": [
    "# Linear Relationship w Adjustable Correlation\n",
    "data = generate_data(0, 50, 0, 50, 300, 0.8)\n",
    "\n",
    "w = 0\n",
    "b = 0\n",
    "\n",
    "tmp_f_wb = compute_model_output(data[0], w, b,)\n",
    "\n",
    "# Plot our model prediction\n",
    "plt.plot(data[0], tmp_f_wb, c='r', label=f'Prediction: y = {w}x + {b}' )\n",
    "\n",
    "plt.xlabel(\"Feature\")\n",
    "plt.ylabel(\"Target\")\n",
    "plt.scatter(data[0], data[1], color='blue')\n",
    "plt.show()"
   ]
  }
 ],
 "metadata": {
  "kernelspec": {
   "display_name": "Python 3",
   "language": "python",
   "name": "python3"
  },
  "language_info": {
   "codemirror_mode": {
    "name": "ipython",
    "version": 3
   },
   "file_extension": ".py",
   "mimetype": "text/x-python",
   "name": "python",
   "nbconvert_exporter": "python",
   "pygments_lexer": "ipython3",
   "version": "3.12.1"
  }
 },
 "nbformat": 4,
 "nbformat_minor": 2
}
