{
 "cells": [
  {
   "cell_type": "markdown",
   "metadata": {},
   "source": [
    "# Jupyter Notebooks\n",
    "\n",
    "A web-based interactive development environment for markdown, code, and data. Jupyter Notebooks are a essential tools for Software Engineers and Data Scientists for documenting MLOps information, processs and decsions.\n",
    "\n",
    "#### Markdown:\n",
    "\n",
    "Read the [Markdown documentation](https://docs.github.com/en/get-started/writing-on-github/getting-started-with-writing-and-formatting-on-github/basic-writing-and-formatting-syntax) for basic Syntax of *.md files.\n",
    "\n",
    "#### How to run a Jupyter Notebook in a CodeSpace:\n",
    "\n",
    "![How to run Jupyter Notebook](../select_python_environment.gif)\n",
    "\n",
    "#### Prebuilt DevContainer\n",
    "\n",
    "Clone the preconfigured template: [Pre-configured Code Spaces DevContainer for Machine Learning](https://github.com/TempeHS/TempeHS_Jupyter-Notebook_DevContainer)\n",
    "\n",
    "1. [Requirements.txt](../requirements.txt) - Loads all the dependancies for Jupyter Notebooks, ML and Vision ML.\n",
    "2. [devcontainer.json](../.devcontainer/devcontainer.json) - Configures the Codespace including Loads requirements and installs some Vision ML tools, installs required VSCode extensions and configures some VSCode settings.\n",
    "3. [.vscode](../vscode/) - Configures Desktop VSCode and recomends the correct extensions. It does not include configuration for Vision ML.\n",
    "\n",
    "> [!Important]\n",
    ">\n",
    "> 1. It is recomended you use a Codespace\n",
    "> 2. When you deploy a Codespaces please allow 3-4minutes for the configuration to complete before interacting with Notebooks.\n",
    "> 3. If using desktop VSCode you will need to manually insatll the recomended extensions and implement a Venv environment.\n",
    "\n",
    "![wait for dependencies to install](../allow_requirements_install.png)\n"
   ]
  },
  {
   "cell_type": "code",
   "execution_count": null,
   "metadata": {},
   "outputs": [],
   "source": [
    "var1 = 1\n",
    "var2 = 2"
   ]
  },
  {
   "cell_type": "code",
   "execution_count": null,
   "metadata": {},
   "outputs": [],
   "source": [
    "var1 = 9"
   ]
  },
  {
   "cell_type": "code",
   "execution_count": null,
   "metadata": {},
   "outputs": [],
   "source": [
    "result = var1 + var2\n",
    "print(result)"
   ]
  }
 ],
 "metadata": {
  "kernelspec": {
   "display_name": "Python 3",
   "language": "python",
   "name": "python3"
  },
  "language_info": {
   "codemirror_mode": {
    "name": "ipython",
    "version": 3
   },
   "file_extension": ".py",
   "mimetype": "text/x-python",
   "name": "python",
   "nbconvert_exporter": "python",
   "pygments_lexer": "ipython3",
   "version": "3.12.1"
  }
 },
 "nbformat": 4,
 "nbformat_minor": 2
}
