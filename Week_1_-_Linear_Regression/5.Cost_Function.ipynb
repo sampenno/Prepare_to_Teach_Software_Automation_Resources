{
  "cells": [
    {
      "cell_type": "markdown",
      "metadata": {},
      "source": [
        "# Cost Function for Linear Regression\n",
        "\n",
        "The cost equation provides a measure of how well your predictions match your training data. Loss is the error for a single data point, while cost is the average loss over the entire training dataset. \n",
        "\n",
        "Minimizing the cost can provide optimal values of $w$, $b$.\n",
        "\n",
        "$$ J(w, b) = \\frac{1}{2n} \\sum_{i=1}^{n} \\left( f_{w,b}(x^{(i)}) - y^{(i)} \\right)^2 $$\n",
        "\n"
      ]
    },
    {
      "cell_type": "code",
      "execution_count": 1,
      "id": "78787711",
      "metadata": {},
      "outputs": [],
      "source": [
        "%matplotlib ipympl\n",
        "import numpy as np\n",
        "import matplotlib.pyplot as plt\n",
        "\n",
        "from utils_common import generate_data\n",
        "from utils_grad_dec import plt_intuition\n",
        "plt.style.use('ggplot')"
      ]
    },
    {
      "cell_type": "code",
      "execution_count": 2,
      "id": "826238a5",
      "metadata": {},
      "outputs": [],
      "source": [
        "data_set = np.sort(generate_data(1, 2, 300, 500, 10, 1))\n",
        "\n",
        "x_train = data_set[0]  #features\n",
        "y_train = data_set[1]  #target value"
      ]
    },
    {
      "cell_type": "markdown",
      "id": "cdff0a36",
      "metadata": {},
      "source": [
        "## Computing Cost\n"
      ]
    },
    {
      "cell_type": "markdown",
      "id": "56c51eb9",
      "metadata": {},
      "source": [
        "The code below calculates cost by looping over each example. In each loop:\n",
        "- `f_wb`, a prediction is calculated\n",
        "- the difference between the target and the prediction is calculated and squared.\n",
        "- this is added to the total cost."
      ]
    },
    {
      "cell_type": "code",
      "execution_count": 3,
      "id": "2abce5db",
      "metadata": {},
      "outputs": [],
      "source": [
        "def compute_cost(x, y, w, b): \n",
        "    \"\"\"\n",
        "    Computes the cost function for linear regression.\n",
        "    Args:\n",
        "      x (ndarray (m,)): Data, m examples \n",
        "      y (ndarray (m,)): target values\n",
        "      w,b (scalar)    : model parameters  \n",
        "    Returns\n",
        "        total_cost (float): The cost of using m,b as the parameters for\n",
        "        linear regression to fit the data points in x and y\n",
        "    \"\"\"\n",
        "    # number of training examples\n",
        "    n = x.shape[0] \n",
        "    \n",
        "    cost_sum = 0 \n",
        "    for i in range(n): \n",
        "        f_wb = w * x[i] + b   \n",
        "        cost = (f_wb - y[i]) ** 2  \n",
        "        cost_sum = cost_sum + cost  \n",
        "    total_cost = (1 / (2 * n)) * cost_sum  \n",
        "\n",
        "    return total_cost"
      ]
    },
    {
      "cell_type": "markdown",
      "id": "80bb736e",
      "metadata": {},
      "source": [
        "## Cost Function Intuition"
      ]
    },
    {
      "cell_type": "markdown",
      "id": "09b668c6",
      "metadata": {},
      "source": [
        "Below, use the slider control to select the value of $w$ that minimizes cost. It can take a few seconds for the plot to update."
      ]
    },
    {
      "cell_type": "code",
      "execution_count": 4,
      "id": "48094a19",
      "metadata": {},
      "outputs": [
        {
          "data": {
            "application/vnd.jupyter.widget-view+json": {
              "model_id": "37e6917b8dde4e2793eb64f3597d8b28",
              "version_major": 2,
              "version_minor": 0
            },
            "text/plain": [
              "interactive(children=(IntSlider(value=150, description='w', max=450, min=-150), Output()), _dom_classes=('widg…"
            ]
          },
          "metadata": {},
          "output_type": "display_data"
        }
      ],
      "source": [
        "plt_intuition(x_train,y_train)"
      ]
    }
  ],
  "metadata": {
    "kernelspec": {
      "display_name": "Python 3",
      "language": "python",
      "name": "python3"
    },
    "language_info": {
      "codemirror_mode": {
        "name": "ipython",
        "version": 3
      },
      "file_extension": ".py",
      "mimetype": "text/x-python",
      "name": "python",
      "nbconvert_exporter": "python",
      "pygments_lexer": "ipython3",
      "version": "3.12.1"
    },
    "toc-autonumbering": false
  },
  "nbformat": 4,
  "nbformat_minor": 5
}
